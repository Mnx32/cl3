{
 "cells": [
  {
   "cell_type": "code",
   "execution_count": 1,
   "id": "e1b30fa9-abf3-4712-af7e-ce26804a1254",
   "metadata": {},
   "outputs": [
    {
     "name": "stdout",
     "output_type": "stream",
     "text": [
      "=== Round Robin Load Balancing ===\n",
      "Client1 → Server1\n",
      "Client2 → Server2\n",
      "Client3 → Server3\n",
      "Client4 → Server1\n",
      "Client5 → Server2\n",
      "Client6 → Server3\n",
      "Client7 → Server1\n",
      "Client8 → Server2\n",
      "Client9 → Server3\n",
      "Client10 → Server1\n",
      "\n",
      "=== Least Connections Load Balancing ===\n",
      "Client1 → Server1\n",
      "Client2 → Server2\n",
      "Client3 → Server3\n",
      "Client4 → Server1\n",
      "Client5 → Server2\n",
      "Client6 → Server3\n",
      "Client7 → Server1\n",
      "Client8 → Server2\n",
      "Client9 → Server3\n",
      "Client10 → Server1\n"
     ]
    }
   ],
   "source": [
    "# Define servers and their load\n",
    "server1 = 0\n",
    "server2 = 0\n",
    "server3 = 0\n",
    "\n",
    "# List of client requests (10 clients)\n",
    "clients = [\"Client1\", \"Client2\", \"Client3\", \"Client4\", \"Client5\",\n",
    "           \"Client6\", \"Client7\", \"Client8\", \"Client9\", \"Client10\"]\n",
    "\n",
    "print(\"=== Round Robin Load Balancing ===\")\n",
    "count = 1\n",
    "for client in clients:\n",
    "    if count == 1:\n",
    "        print(client, \"→ Server1\")\n",
    "    elif count == 2:\n",
    "        print(client, \"→ Server2\")\n",
    "    elif count == 3:\n",
    "        print(client, \"→ Server3\")\n",
    "    count += 1\n",
    "    if count > 3:\n",
    "        count = 1\n",
    "\n",
    "print(\"\\n=== Least Connections Load Balancing ===\")\n",
    "# Reset server loads\n",
    "server1 = 0\n",
    "server2 = 0\n",
    "server3 = 0\n",
    "\n",
    "for client in clients:\n",
    "    # Choose server with least connections\n",
    "    if server1 <= server2 and server1 <= server3:\n",
    "        print(client, \"→ Server1\")\n",
    "        server1 += 1\n",
    "    elif server2 <= server1 and server2 <= server3:\n",
    "        print(client, \"→ Server2\")\n",
    "        server2 += 1\n",
    "    else:\n",
    "        print(client, \"→ Server3\")\n",
    "        server3 += 1\n"
   ]
  }
 ],
 "metadata": {
  "kernelspec": {
   "display_name": "Python 3 (ipykernel)",
   "language": "python",
   "name": "python3"
  },
  "language_info": {
   "codemirror_mode": {
    "name": "ipython",
    "version": 3
   },
   "file_extension": ".py",
   "mimetype": "text/x-python",
   "name": "python",
   "nbconvert_exporter": "python",
   "pygments_lexer": "ipython3",
   "version": "3.12.4"
  }
 },
 "nbformat": 4,
 "nbformat_minor": 5
}
