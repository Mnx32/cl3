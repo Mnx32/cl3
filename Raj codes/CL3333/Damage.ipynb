{
 "cells": [
  {
   "cell_type": "code",
   "execution_count": 1,
   "id": "cb5836f6-d30d-49c4-93ba-62f3c485ec00",
   "metadata": {},
   "outputs": [
    {
     "name": "stdout",
     "output_type": "stream",
     "text": [
      "Test 1 ( [1, 1, 0, 1] ) => Damaged\n",
      "Test 2 ( [0, 0, 0, 0] ) => Healthy\n"
     ]
    }
   ],
   "source": [
    "import random\n",
    "\n",
    "# Sample training data: [features], label\n",
    "# 1 = damage present, 0 = no damage\n",
    "data = [\n",
    "    ([1, 1, 1, 0], \"Damaged\"),\n",
    "    ([1, 0, 1, 1], \"Damaged\"),\n",
    "    ([0, 0, 0, 1], \"Healthy\"),\n",
    "    ([0, 0, 1, 0], \"Healthy\")\n",
    "]\n",
    "\n",
    "# Separate the training data into antibodies and labels\n",
    "antibodies = []\n",
    "labels = []\n",
    "\n",
    "for sample in data:\n",
    "    antibodies.append(sample[0])  # features\n",
    "    labels.append(sample[1])      # label\n",
    "\n",
    "# Similarity function (affinity): count how many features match\n",
    "def affinity(a, b):\n",
    "    score = 0\n",
    "    for i in range(len(a)):\n",
    "        if a[i] == b[i]:\n",
    "            score += 1\n",
    "    return score\n",
    "\n",
    "# Function to classify a new test structure\n",
    "def classify_structure(test_sample):\n",
    "    best_match = None\n",
    "    best_score = -1\n",
    "\n",
    "    for i in range(len(antibodies)):\n",
    "        score = affinity(test_sample, antibodies[i])\n",
    "        if score > best_score:\n",
    "            best_score = score\n",
    "            best_match = labels[i]\n",
    "\n",
    "    return best_match\n",
    "\n",
    "# Example test inputs\n",
    "test1 = [1, 1, 0, 1]\n",
    "test2 = [0, 0, 0, 0]\n",
    "\n",
    "print(\"Test 1 (\", test1, \") =>\", classify_structure(test1))\n",
    "print(\"Test 2 (\", test2, \") =>\", classify_structure(test2))\n"
   ]
  }
 ],
 "metadata": {
  "kernelspec": {
   "display_name": "Python 3 (ipykernel)",
   "language": "python",
   "name": "python3"
  },
  "language_info": {
   "codemirror_mode": {
    "name": "ipython",
    "version": 3
   },
   "file_extension": ".py",
   "mimetype": "text/x-python",
   "name": "python",
   "nbconvert_exporter": "python",
   "pygments_lexer": "ipython3",
   "version": "3.12.4"
  }
 },
 "nbformat": 4,
 "nbformat_minor": 5
}
