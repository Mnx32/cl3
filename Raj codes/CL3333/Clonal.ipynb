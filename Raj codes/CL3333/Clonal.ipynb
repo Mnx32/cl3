{
 "cells": [
  {
   "cell_type": "code",
   "execution_count": 7,
   "id": "867bd716-5691-4dc7-95f7-6bf91dab19c8",
   "metadata": {},
   "outputs": [
    {
     "name": "stdout",
     "output_type": "stream",
     "text": [
      "Generation 1 Best = [1, 1, 1, 1, 0, 0] Affinity = 4\n",
      "Generation 2 Best = [1, 1, 1, 1, 0, 0] Affinity = 4\n",
      "Generation 3 Best = [1, 1, 1, 1, 1, 0] Affinity = 5\n",
      "\n",
      "Final Best Antibody: [1, 1, 1, 1, 1, 0]\n"
     ]
    }
   ],
   "source": [
    "import random\n",
    "\n",
    "# Step 1: Define Parameters\n",
    "POP_SIZE = 4       # Number of antibodies in the population\n",
    "GENS = 3           # Number of generations to run\n",
    "LEN = 6            # Length of each antibody (binary list)\n",
    "CLONES = 2         # Number of clones per generation\n",
    "\n",
    "# Step 2: Function to create a random antibody\n",
    "def random_antibody():\n",
    "    ab = []\n",
    "    for i in range(LEN):\n",
    "        ab.append(random.randint(0, 1))\n",
    "    return ab\n",
    "\n",
    "# Step 3: Function to calculate affinity (number of 1s)\n",
    "def affinity(antibody):\n",
    "    count = 0\n",
    "    for bit in antibody:\n",
    "        if bit == 1:\n",
    "            count += 1\n",
    "    return count\n",
    "\n",
    "# Step 4: Function to mutate an antibody\n",
    "def mutate(antibody):\n",
    "    mutated = []\n",
    "    for bit in antibody:\n",
    "        chance = random.random()\n",
    "        if chance < 0.2:\n",
    "            mutated.append(1 - bit)  # Flip bit\n",
    "        else:\n",
    "            mutated.append(bit)\n",
    "    return mutated\n",
    "\n",
    "# Step 5: Create initial population\n",
    "population = []\n",
    "for i in range(POP_SIZE):\n",
    "    ab = random_antibody()\n",
    "    population.append(ab)\n",
    "\n",
    "# Step 6: Run for multiple generations\n",
    "for generation in range(1, GENS + 1):\n",
    "\n",
    "    # Step 6a: Find the best antibody\n",
    "    best = population[0]\n",
    "    best_score = affinity(best)\n",
    "\n",
    "    for ab in population:\n",
    "        score = affinity(ab)\n",
    "        if score > best_score:\n",
    "            best = ab\n",
    "            best_score = score\n",
    "\n",
    "    # Step 6b: Clone the best antibody and mutate\n",
    "    new_population = []\n",
    "    new_population.append(best)  # Keep the best as it is\n",
    "\n",
    "    for i in range(CLONES):\n",
    "        clone = mutate(best)\n",
    "        new_population.append(clone)\n",
    "\n",
    "    # Step 6c: Replace old population (limit to POP_SIZE)\n",
    "    population = new_population[:POP_SIZE]\n",
    "\n",
    "    # Step 6d: Print current generation's best antibody\n",
    "    print(\"Generation\", generation, \"Best =\", best, \"Affinity =\", best_score)\n",
    "\n",
    "# Step 7: Final result\n",
    "print(\"\\nFinal Best Antibody:\", best)\n"
   ]
  }
 ],
 "metadata": {
  "kernelspec": {
   "display_name": "Python 3 (ipykernel)",
   "language": "python",
   "name": "python3"
  },
  "language_info": {
   "codemirror_mode": {
    "name": "ipython",
    "version": 3
   },
   "file_extension": ".py",
   "mimetype": "text/x-python",
   "name": "python",
   "nbconvert_exporter": "python",
   "pygments_lexer": "ipython3",
   "version": "3.12.4"
  }
 },
 "nbformat": 4,
 "nbformat_minor": 5
}
