{
 "cells": [
  {
   "cell_type": "code",
   "execution_count": 1,
   "id": "9394bab1-841f-4280-b84b-00dd1868fa79",
   "metadata": {},
   "outputs": [],
   "source": [
    "# Define two fuzzy sets A and B as dictionaries\n",
    "A = {'x1': 0.2, 'x2': 0.5, 'x3': 0.9}\n",
    "B = {'x1': 0.6, 'x2': 0.4, 'x3': 0.7}"
   ]
  },
  {
   "cell_type": "code",
   "execution_count": 3,
   "id": "252d02ad-ca45-4be3-8f4b-9249c96872ef",
   "metadata": {},
   "outputs": [
    {
     "name": "stdout",
     "output_type": "stream",
     "text": [
      "Union: {'x1': 0.6, 'x2': 0.5, 'x3': 0.9}\n"
     ]
    }
   ],
   "source": [
    "# Union\n",
    "union = {x: max(A[x], B[x]) for x in A}\n",
    "print(\"Union:\", union)"
   ]
  },
  {
   "cell_type": "code",
   "execution_count": 5,
   "id": "7ebd8048-261c-4f23-a55f-550f39966154",
   "metadata": {},
   "outputs": [
    {
     "name": "stdout",
     "output_type": "stream",
     "text": [
      "Intersection: {'x1': 0.2, 'x2': 0.4, 'x3': 0.7}\n"
     ]
    }
   ],
   "source": [
    "# Intersection\n",
    "intersection = {x: min(A[x], B[x]) for x in A}\n",
    "print(\"Intersection:\", intersection)"
   ]
  },
  {
   "cell_type": "code",
   "execution_count": 7,
   "id": "e9efe717-e2b5-40e4-9014-7cedf91340d8",
   "metadata": {},
   "outputs": [
    {
     "name": "stdout",
     "output_type": "stream",
     "text": [
      "Complement of A: {'x1': 0.8, 'x2': 0.5, 'x3': 0.09999999999999998}\n"
     ]
    }
   ],
   "source": [
    "# Complement of A\n",
    "complement_A = {x: 1 - A[x] for x in A}\n",
    "print(\"Complement of A:\", complement_A)"
   ]
  },
  {
   "cell_type": "code",
   "execution_count": 9,
   "id": "622283e0-68fe-4cf0-a9c9-47afa27785ac",
   "metadata": {},
   "outputs": [
    {
     "name": "stdout",
     "output_type": "stream",
     "text": [
      "Difference A - B: {'x1': 0.2, 'x2': 0.5, 'x3': 0.30000000000000004}\n"
     ]
    }
   ],
   "source": [
    "# Difference A - B\n",
    "difference = {x: min(A[x], 1 - B[x]) for x in A}\n",
    "print(\"Difference A - B:\", difference)"
   ]
  },
  {
   "cell_type": "code",
   "execution_count": 11,
   "id": "495c1159-6854-46d6-af6c-03d7629e17a7",
   "metadata": {},
   "outputs": [
    {
     "name": "stdout",
     "output_type": "stream",
     "text": [
      "Fuzzy Relation A × B:\n",
      "('x1', 'x1'): 0.2\n",
      "('x1', 'x2'): 0.2\n",
      "('x1', 'x3'): 0.2\n",
      "('x2', 'x1'): 0.5\n",
      "('x2', 'x2'): 0.4\n",
      "('x2', 'x3'): 0.5\n",
      "('x3', 'x1'): 0.6\n",
      "('x3', 'x2'): 0.4\n",
      "('x3', 'x3'): 0.7\n"
     ]
    }
   ],
   "source": [
    "# Fuzzy Relation (Cartesian Product A × B)\n",
    "relation = {(x, y): min(A[x], B[y]) for x in A for y in B}\n",
    "print(\"Fuzzy Relation A × B:\")\n",
    "for pair in relation:\n",
    "    print(f\"{pair}: {relation[pair]}\")"
   ]
  },
  {
   "cell_type": "code",
   "execution_count": 13,
   "id": "0681a027-96ce-47a7-bcc1-ffd16f2ea2f5",
   "metadata": {},
   "outputs": [
    {
     "name": "stdout",
     "output_type": "stream",
     "text": [
      "Max-Min Composition R1 ○ R2:\n",
      "('x1', 'z1'): 0.7\n",
      "('x1', 'z2'): 0.7\n",
      "('x2', 'z1'): 0.5\n",
      "('x2', 'z2'): 0.4\n"
     ]
    }
   ],
   "source": [
    "# Define two fuzzy relations R1 and R2 for max-min composition\n",
    "R1 = {\n",
    "    ('x1', 'y1'): 0.3, ('x1', 'y2'): 0.7,\n",
    "    ('x2', 'y1'): 0.5, ('x2', 'y2'): 0.2\n",
    "}\n",
    "\n",
    "R2 = {\n",
    "    ('y1', 'z1'): 0.6, ('y1', 'z2'): 0.4,\n",
    "    ('y2', 'z1'): 0.8, ('y2', 'z2'): 0.9\n",
    "}\n",
    "\n",
    "# Max-Min Composition: R1 ○ R2\n",
    "Z = {}\n",
    "for x in ['x1', 'x2']:\n",
    "    for z in ['z1', 'z2']:\n",
    "        Z[(x, z)] = max(\n",
    "            min(R1[(x, 'y1')], R2[('y1', z)]),\n",
    "            min(R1[(x, 'y2')], R2[('y2', z)])\n",
    "        )\n",
    "\n",
    "print(\"Max-Min Composition R1 ○ R2:\")\n",
    "for pair in Z:\n",
    "    print(f\"{pair}: {Z[pair]}\")"
   ]
  }
 ],
 "metadata": {
  "kernelspec": {
   "display_name": "Python 3 (ipykernel)",
   "language": "python",
   "name": "python3"
  },
  "language_info": {
   "codemirror_mode": {
    "name": "ipython",
    "version": 3
   },
   "file_extension": ".py",
   "mimetype": "text/x-python",
   "name": "python",
   "nbconvert_exporter": "python",
   "pygments_lexer": "ipython3",
   "version": "3.12.4"
  }
 },
 "nbformat": 4,
 "nbformat_minor": 5
}
