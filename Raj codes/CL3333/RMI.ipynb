{
 "cells": [
  {
   "cell_type": "code",
   "execution_count": null,
   "id": "35d4ee72-65f8-4c75-93a5-09d036bda8c0",
   "metadata": {},
   "outputs": [],
   "source": [
    "import Pyro4\n",
    "\n",
    "uri = input(\"Enter the URI of the server: \")\n",
    "server = Pyro4.Proxy(uri)\n",
    "\n",
    "s1 = input(\"Enter first string: \")\n",
    "s2 = input(\"Enter second string: \")\n",
    "\n",
    "result = server.concatenate(s1, s2)\n",
    "print(\"Concatenated string:\", result)\n"
   ]
  },
  {
   "cell_type": "code",
   "execution_count": null,
   "id": "03f8ddfe-6c90-4f5f-8627-356cbf744493",
   "metadata": {},
   "outputs": [],
   "source": [
    "import Pyro4\n",
    "\n",
    "@Pyro4.expose\n",
    "class StringService:\n",
    "    def concatenate(self, s1, s2):\n",
    "        return s1 + s2\n",
    "\n",
    "# Start the Pyro daemon and register the object\n",
    "daemon = Pyro4.Daemon()\n",
    "uri = daemon.register(StringService)\n",
    "print(\"Server is running. URI:\", uri)\n",
    "daemon.requestLoop()"
   ]
  }
 ],
 "metadata": {
  "kernelspec": {
   "display_name": "Python 3 (ipykernel)",
   "language": "python",
   "name": "python3"
  },
  "language_info": {
   "codemirror_mode": {
    "name": "ipython",
    "version": 3
   },
   "file_extension": ".py",
   "mimetype": "text/x-python",
   "name": "python",
   "nbconvert_exporter": "python",
   "pygments_lexer": "ipython3",
   "version": "3.12.4"
  }
 },
 "nbformat": 4,
 "nbformat_minor": 5
}
