{
 "cells": [
  {
   "cell_type": "code",
   "execution_count": null,
   "id": "ac397394-5604-4006-b8f5-b917e16f9909",
   "metadata": {},
   "outputs": [],
   "source": [
    "import xmlrpc.client\n",
    "\n",
    "# Connect to the server\n",
    "proxy = xmlrpc.client.ServerProxy(\"http://localhost:9000/\")\n",
    "\n",
    "# Take input from user\n",
    "num = int(input(\"Enter an integer: \"))\n",
    "\n",
    "# Call remote function\n",
    "result = proxy.factorial(num)\n",
    "\n",
    "print(\"Factorial:\", result)\n"
   ]
  },
  {
   "cell_type": "code",
   "execution_count": null,
   "id": "3bdc8c13-5e01-4111-843d-58f6d182f1ca",
   "metadata": {},
   "outputs": [],
   "source": [
    "from xmlrpc.server import SimpleXMLRPCServer\n",
    "\n",
    "# Define factorial function\n",
    "def factorial(n):\n",
    "    result = 1\n",
    "    for i in range(1, n+1):\n",
    "        result *= i\n",
    "    return result\n",
    "\n",
    "# Create server\n",
    "server = SimpleXMLRPCServer((\"localhost\", 9000))\n",
    "print(\"Server is ready on port 9000...\")\n",
    "\n",
    "# Register function\n",
    "server.register_function(factorial, \"factorial\")\n",
    "\n",
    "# Run the server\n",
    "server.serve_forever()\n"
   ]
  }
 ],
 "metadata": {
  "kernelspec": {
   "display_name": "Python 3 (ipykernel)",
   "language": "python",
   "name": "python3"
  },
  "language_info": {
   "codemirror_mode": {
    "name": "ipython",
    "version": 3
   },
   "file_extension": ".py",
   "mimetype": "text/x-python",
   "name": "python",
   "nbconvert_exporter": "python",
   "pygments_lexer": "ipython3",
   "version": "3.12.4"
  }
 },
 "nbformat": 4,
 "nbformat_minor": 5
}
