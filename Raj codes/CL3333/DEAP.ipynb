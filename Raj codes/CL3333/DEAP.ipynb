{
 "cells": [
  {
   "cell_type": "code",
   "execution_count": 5,
   "id": "e3de9b69-f0fa-495e-93b1-057eb613fb6d",
   "metadata": {},
   "outputs": [
    {
     "name": "stdout",
     "output_type": "stream",
     "text": [
      "gen\tnevals\n",
      "0  \t10    \n",
      "1  \t3     \n",
      "2  \t8     \n",
      "3  \t9     \n",
      "4  \t4     \n",
      "5  \t6     \n"
     ]
    },
    {
     "data": {
      "text/plain": [
       "([[1, 1, 1, 1, 0, 1, 1, 0, 1, 1],\n",
       "  [1, 0, 1, 1, 0, 1, 1, 0, 1, 1],\n",
       "  [1, 0, 1, 0, 0, 1, 1, 1, 1, 1],\n",
       "  [0, 1, 1, 1, 0, 1, 1, 0, 0, 1],\n",
       "  [1, 0, 1, 0, 0, 1, 1, 1, 1, 1],\n",
       "  [1, 1, 1, 1, 1, 1, 0, 0, 1, 1],\n",
       "  [1, 0, 1, 0, 1, 1, 0, 1, 1, 1],\n",
       "  [1, 1, 1, 1, 0, 1, 1, 0, 0, 1],\n",
       "  [1, 0, 1, 1, 0, 1, 1, 0, 1, 1],\n",
       "  [1, 1, 1, 1, 1, 1, 0, 0, 1, 1]],\n",
       " [{'gen': 0, 'nevals': 10},\n",
       "  {'gen': 1, 'nevals': 3},\n",
       "  {'gen': 2, 'nevals': 8},\n",
       "  {'gen': 3, 'nevals': 9},\n",
       "  {'gen': 4, 'nevals': 4},\n",
       "  {'gen': 5, 'nevals': 6}])"
      ]
     },
     "execution_count": 5,
     "metadata": {},
     "output_type": "execute_result"
    }
   ],
   "source": [
    "from deap import base, creator, tools, algorithms\n",
    "import random\n",
    "\n",
    "# Problem: Maximize the sum of 0/1 bits (e.g., [1,1,0,1,0] -> 3)\n",
    "\n",
    "# 1. Define Fitness and Individual\n",
    "creator.create(\"FitnessMax\", base.Fitness, weights=(1.0,))  # maximize\n",
    "creator.create(\"Individual\", list, fitness=creator.FitnessMax)\n",
    "\n",
    "# 2. Setup Toolbox\n",
    "toolbox = base.Toolbox()\n",
    "toolbox.register(\"bit\", random.randint, 0, 1)\n",
    "toolbox.register(\"individual\", tools.initRepeat, creator.Individual, toolbox.bit, 10)  # length = 10\n",
    "toolbox.register(\"population\", tools.initRepeat, list, toolbox.individual)\n",
    "\n",
    "# 3. Evaluation function\n",
    "def evaluate(ind):\n",
    "    return sum(ind),  # return as tuple\n",
    "\n",
    "toolbox.register(\"evaluate\", evaluate)\n",
    "toolbox.register(\"mate\", tools.cxTwoPoint)\n",
    "toolbox.register(\"mutate\", tools.mutFlipBit, indpb=0.1)\n",
    "toolbox.register(\"select\", tools.selTournament, tournsize=2)\n",
    "\n",
    "# 4. Main algorithm\n",
    "def main():\n",
    "    pop = toolbox.population(n=10)\n",
    "    result = algorithms.eaSimple(pop, toolbox, cxpb=0.5, mutpb=0.2, ngen=5, verbose=True)\n",
    "    return result\n",
    "\n",
    "main()"
   ]
  }
 ],
 "metadata": {
  "kernelspec": {
   "display_name": "Python 3 (ipykernel)",
   "language": "python",
   "name": "python3"
  },
  "language_info": {
   "codemirror_mode": {
    "name": "ipython",
    "version": 3
   },
   "file_extension": ".py",
   "mimetype": "text/x-python",
   "name": "python",
   "nbconvert_exporter": "python",
   "pygments_lexer": "ipython3",
   "version": "3.12.4"
  }
 },
 "nbformat": 4,
 "nbformat_minor": 5
}
