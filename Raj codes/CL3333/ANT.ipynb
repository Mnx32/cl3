{
 "cells": [
  {
   "cell_type": "code",
   "execution_count": 1,
   "id": "bc969b26-5632-4898-9f6b-ea87e0b7c257",
   "metadata": {},
   "outputs": [
    {
     "name": "stdout",
     "output_type": "stream",
     "text": [
      "Gen 1: Path = [0, 1, 4, 3, 2, 0], Length = 37\n",
      "Gen 2: Path = [0, 1, 4, 3, 2, 0], Length = 37\n",
      "Gen 3: Path = [0, 1, 4, 3, 2, 0], Length = 37\n",
      "Gen 4: Path = [0, 1, 4, 3, 2, 0], Length = 37\n",
      "Gen 5: Path = [0, 1, 4, 3, 2, 0], Length = 37\n"
     ]
    }
   ],
   "source": [
    "import random\n",
    "\n",
    "# Distance matrix for 5 cities\n",
    "D = [\n",
    "    [0, 2, 9, 10, 7],\n",
    "    [1, 0, 6, 4, 3],\n",
    "    [15, 7, 0, 8, 3],\n",
    "    [6, 3, 12, 0, 11],\n",
    "    [10, 4, 8, 5, 0]\n",
    "]\n",
    "\n",
    "n = 5  # number of cities\n",
    "pheromone = [[1]*n for _ in range(n)]    #This line creates a 2D list (matrix) of size n x n filled with 1s.\n",
    "\n",
    "# Build one route\n",
    "def build_route():\n",
    "    path = [0]\n",
    "    while len(path) < n:\n",
    "        next_city = min((j for j in range(n) if j not in path),\n",
    "                        key=lambda j: D[path[-1]][j] / pheromone[path[-1]][j])\n",
    "        path.append(next_city)\n",
    "    path.append(0)  # return\n",
    "    return path\n",
    "\n",
    "# Total distance of a path\n",
    "def path_length(path):\n",
    "    return sum(D[path[i]][path[i+1]] for i in range(len(path)-1))\n",
    "\n",
    "# Main loop\n",
    "for it in range(5):\n",
    "    route = build_route()\n",
    "    length = path_length(route)\n",
    "    print(f\"Gen {it+1}: Path = {route}, Length = {length}\")\n",
    "    \n",
    "    # Update pheromone (simple way)\n",
    "    for i in range(n):\n",
    "        a, b = route[i], route[i+1]\n",
    "        pheromone[a][b] += 1 / length\n"
   ]
  }
 ],
 "metadata": {
  "kernelspec": {
   "display_name": "Python 3 (ipykernel)",
   "language": "python",
   "name": "python3"
  },
  "language_info": {
   "codemirror_mode": {
    "name": "ipython",
    "version": 3
   },
   "file_extension": ".py",
   "mimetype": "text/x-python",
   "name": "python",
   "nbconvert_exporter": "python",
   "pygments_lexer": "ipython3",
   "version": "3.12.4"
  }
 },
 "nbformat": 4,
 "nbformat_minor": 5
}
