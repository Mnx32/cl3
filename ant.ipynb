{
 "cells": [
  {
   "cell_type": "code",
   "execution_count": 1,
   "id": "352e58a5-c055-45cc-8325-8b52c57b41d8",
   "metadata": {
    "tags": []
   },
   "outputs": [
    {
     "name": "stdout",
     "output_type": "stream",
     "text": [
      "Gen 1: Path = [0, 1, 4, 3, 2, 0], Length = 37\n",
      "Gen 2: Path = [0, 1, 4, 3, 2, 0], Length = 37\n",
      "Gen 3: Path = [0, 1, 4, 3, 2, 0], Length = 37\n",
      "Gen 4: Path = [0, 1, 4, 3, 2, 0], Length = 37\n",
      "Gen 5: Path = [0, 1, 4, 3, 2, 0], Length = 37\n"
     ]
    }
   ],
   "source": [
    "import random\n",
    "\n",
    "# Distance matrix for 5 cities\n",
    "D = [\n",
    "    [0, 2, 9, 10, 7],\n",
    "    [1, 0, 6, 4, 3],\n",
    "    [15, 7, 0, 8, 3],\n",
    "    [6, 3, 12, 0, 11],\n",
    "    [10, 4, 8, 5, 0]\n",
    "]\n",
    "\n",
    "n = 5  # number of cities\n",
    "pheromone = [[1]*n for _ in range(n)]    #This line creates a 2D list (matrix) of size n x n filled with 1s.\n",
    "\n",
    "# Build one route\n",
    "def build_route():\n",
    "    path = [0]\n",
    "    while len(path) < n:\n",
    "        next_city = min((j for j in range(n) if j not in path),\n",
    "                        key=lambda j: D[path[-1]][j] / pheromone[path[-1]][j])\n",
    "        path.append(next_city)\n",
    "    path.append(0)  # return\n",
    "    return path\n",
    "\n",
    "# Total distance of a path\n",
    "def path_length(path):\n",
    "    return sum(D[path[i]][path[i+1]] for i in range(len(path)-1))\n",
    "\n",
    "# Main loop\n",
    "for it in range(5):\n",
    "    route = build_route()\n",
    "    length = path_length(route)\n",
    "    print(f\"Gen {it+1}: Path = {route}, Length = {length}\")\n",
    "    \n",
    "    # Update pheromone (simple way)\n",
    "    for i in range(n):\n",
    "        a, b = route[i], route[i+1]\n",
    "        pheromone[a][b] += 1 / length\n"
   ]
  },
  {
   "cell_type": "code",
   "execution_count": 6,
   "id": "5d27986e-c8a6-49f3-a540-dd1bc04e3d4c",
   "metadata": {},
   "outputs": [
    {
     "data": {
      "text/plain": [
       "[[1, 1.1351351351351349, 1, 1, 1],\n",
       " [1, 1, 1, 1, 1.1351351351351349],\n",
       " [1.1351351351351349, 1, 1, 1, 1],\n",
       " [1, 1, 1.1351351351351349, 1, 1],\n",
       " [1, 1, 1, 1.1351351351351349, 1]]"
      ]
     },
     "execution_count": 6,
     "metadata": {},
     "output_type": "execute_result"
    }
   ],
   "source": [
    "pheromone"
   ]
  },
  {
   "cell_type": "code",
   "execution_count": 2,
   "id": "94f6ddf4-541a-4752-b553-7f5d1f6d5a39",
   "metadata": {
    "tags": []
   },
   "outputs": [
    {
     "name": "stdout",
     "output_type": "stream",
     "text": [
      "Gen 1: Path = [0, 1, 4, 3, 2, 0], Length = 37\n",
      "Gen 2: Path = [0, 1, 4, 3, 2, 0], Length = 37\n",
      "Gen 3: Path = [0, 1, 4, 3, 2, 0], Length = 37\n",
      "Gen 4: Path = [0, 1, 4, 3, 2, 0], Length = 37\n",
      "Gen 5: Path = [0, 1, 4, 3, 2, 0], Length = 37\n"
     ]
    }
   ],
   "source": [
    "import random\n",
    "\n",
    "# Distance matrix for 5 cities\n",
    "D = [\n",
    "    [0, 2, 9, 10, 7],\n",
    "    [1, 0, 6, 4, 3],\n",
    "    [15, 7, 0, 8, 3],\n",
    "    [6, 3, 12, 0, 11],\n",
    "    [10, 4, 8, 5, 0]\n",
    "]\n",
    "\n",
    "n = 5  # number of cities\n",
    "pheromone = [[1]*n for _ in range(n)]  # initial pheromone levels\n",
    "\n",
    "for it in range(5):\n",
    "    path = [0]  # start from city 0\n",
    "\n",
    "    while len(path) < n:\n",
    "        # Expanded: create list of cities not yet visited\n",
    "        options = []\n",
    "        for j in range(n):\n",
    "            if j not in path:\n",
    "                options.append(j)\n",
    "\n",
    "        # Expanded: find the next best city based on (distance / pheromone)\n",
    "        min_value = float('inf')\n",
    "        best_city = -1\n",
    "        for j in options:\n",
    "            ratio = D[path[-1]][j] / pheromone[path[-1]][j]\n",
    "            if ratio < min_value:\n",
    "                min_value = ratio\n",
    "                best_city = j\n",
    "\n",
    "        path.append(best_city)\n",
    "\n",
    "    path.append(0)  # return to start\n",
    "\n",
    "    # Expanded: calculate total path length\n",
    "    length = 0\n",
    "    for i in range(len(path) - 1):\n",
    "        from_city = path[i]\n",
    "        to_city = path[i + 1]\n",
    "        length += D[from_city][to_city]\n",
    "\n",
    "    print(f\"Gen {it+1}: Path = {path}, Length = {length}\")\n",
    "\n",
    "    # Update pheromone\n",
    "    for i in range(n):\n",
    "        a = path[i]\n",
    "        b = path[i + 1]\n",
    "        pheromone[a][b] += 1 / length\n"
   ]
  },
  {
   "cell_type": "code",
   "execution_count": 5,
   "id": "c381bf0b-e1dc-4d3d-a372-782ec83da976",
   "metadata": {},
   "outputs": [
    {
     "name": "stdout",
     "output_type": "stream",
     "text": [
      "inf\n"
     ]
    }
   ],
   "source": [
    "gg = float('inf')\n",
    "print(gg)"
   ]
  },
  {
   "cell_type": "code",
   "execution_count": null,
   "id": "6658576d-3f77-45a9-9204-d885b001cb7f",
   "metadata": {},
   "outputs": [],
   "source": []
  }
 ],
 "metadata": {
  "kernelspec": {
   "display_name": "Python 3 (ipykernel)",
   "language": "python",
   "name": "python3"
  },
  "language_info": {
   "codemirror_mode": {
    "name": "ipython",
    "version": 3
   },
   "file_extension": ".py",
   "mimetype": "text/x-python",
   "name": "python",
   "nbconvert_exporter": "python",
   "pygments_lexer": "ipython3",
   "version": "3.11.4"
  }
 },
 "nbformat": 4,
 "nbformat_minor": 5
}
